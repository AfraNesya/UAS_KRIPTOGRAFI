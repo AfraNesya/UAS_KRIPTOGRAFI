{
  "nbformat": 4,
  "nbformat_minor": 0,
  "metadata": {
    "colab": {
      "provenance": [],
      "authorship_tag": "ABX9TyM+27jn/RTSdrDmhCX3emk7",
      "include_colab_link": true
    },
    "kernelspec": {
      "name": "python3",
      "display_name": "Python 3"
    },
    "language_info": {
      "name": "python"
    }
  },
  "cells": [
    {
      "cell_type": "markdown",
      "metadata": {
        "id": "view-in-github",
        "colab_type": "text"
      },
      "source": [
        "<a href=\"https://colab.research.google.com/github/AfraNesya/UAS_KRIPTOGRAFI/blob/main/Affine_Chiper.ipynb\" target=\"_parent\"><img src=\"https://colab.research.google.com/assets/colab-badge.svg\" alt=\"Open In Colab\"/></a>"
      ]
    },
    {
      "cell_type": "code",
      "execution_count": 1,
      "metadata": {
        "colab": {
          "base_uri": "https://localhost:8080/"
        },
        "id": "RNLsfcJ3Hk2S",
        "outputId": "fa11e53e-f131-4d8c-8bd2-88f06dfc3bd4"
      },
      "outputs": [
        {
          "output_type": "stream",
          "name": "stdout",
          "text": [
            "Masukkan teks yang akan dienkripsi: afra nesya\n",
            "Masukkan nilai a (bilangan bulat relatif prima dengan 26): 7\n",
            "Masukkan nilai b (bilangan bulat): 4\n",
            "Teks terenkripsi: ente rgaqe\n",
            "Teks terdekripsi: afra nesya\n"
          ]
        }
      ],
      "source": [
        "def gcd(a, b):\n",
        "    while b:\n",
        "        a, b = b, a % b\n",
        "    return a\n",
        "\n",
        "def mod_inverse(a, m):\n",
        "    for i in range(1, m):\n",
        "        if (a * i) % m == 1:\n",
        "            return i\n",
        "    return None\n",
        "\n",
        "def affine_encrypt(plain_text, a, b):\n",
        "    result = \"\"\n",
        "    m = 26  # Jumlah huruf dalam alfabet\n",
        "\n",
        "    for char in plain_text:\n",
        "        if char.isalpha():\n",
        "            if char.islower():\n",
        "                result += chr((a * (ord(char) - ord('a')) + b) % m + ord('a'))\n",
        "            else:\n",
        "                result += chr((a * (ord(char) - ord('A')) + b) % m + ord('A'))\n",
        "        else:\n",
        "            result += char\n",
        "\n",
        "    return result\n",
        "\n",
        "def affine_decrypt(encrypted_text, a, b):\n",
        "    result = \"\"\n",
        "    m = 26  # Jumlah huruf dalam alfabet\n",
        "    a_inv = mod_inverse(a, m)\n",
        "\n",
        "    for char in encrypted_text:\n",
        "        if char.isalpha():\n",
        "            if char.islower():\n",
        "                result += chr((a_inv * (ord(char) - ord('a') - b)) % m + ord('a'))\n",
        "            else:\n",
        "                result += chr((a_inv * (ord(char) - ord('A') - b)) % m + ord('A'))\n",
        "        else:\n",
        "            result += char\n",
        "\n",
        "    return result\n",
        "\n",
        "def main():\n",
        "    plain_text = input(\"Masukkan teks yang akan dienkripsi: \")\n",
        "    a = int(input(\"Masukkan nilai a (bilangan bulat relatif prima dengan 26): \"))\n",
        "    b = int(input(\"Masukkan nilai b (bilangan bulat): \"))\n",
        "\n",
        "    if gcd(a, 26) != 1:\n",
        "        print(\"Error: a harus relatif prima dengan 26.\")\n",
        "        return\n",
        "\n",
        "    encrypted_text = affine_encrypt(plain_text, a, b)\n",
        "    print(\"Teks terenkripsi:\", encrypted_text)\n",
        "\n",
        "    decrypted_text = affine_decrypt(encrypted_text, a, b)\n",
        "    print(\"Teks terdekripsi:\", decrypted_text)\n",
        "\n",
        "if __name__ == \"__main__\":\n",
        "    main()\n"
      ]
    }
  ]
}