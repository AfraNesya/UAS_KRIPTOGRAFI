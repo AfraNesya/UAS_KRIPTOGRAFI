{
  "nbformat": 4,
  "nbformat_minor": 0,
  "metadata": {
    "colab": {
      "provenance": [],
      "authorship_tag": "ABX9TyPss3sKquZPoEgxxzajRGu1",
      "include_colab_link": true
    },
    "kernelspec": {
      "name": "python3",
      "display_name": "Python 3"
    },
    "language_info": {
      "name": "python"
    }
  },
  "cells": [
    {
      "cell_type": "markdown",
      "metadata": {
        "id": "view-in-github",
        "colab_type": "text"
      },
      "source": [
        "<a href=\"https://colab.research.google.com/github/AfraNesya/UAS_KRIPTOGRAFI/blob/main/Affine_OTP.ipynb\" target=\"_parent\"><img src=\"https://colab.research.google.com/assets/colab-badge.svg\" alt=\"Open In Colab\"/></a>"
      ]
    },
    {
      "cell_type": "code",
      "execution_count": 1,
      "metadata": {
        "colab": {
          "base_uri": "https://localhost:8080/"
        },
        "id": "BFPuKQE4O-aN",
        "outputId": "11fb2049-6d07-45c7-bf91-94277881d18d"
      },
      "outputs": [
        {
          "output_type": "stream",
          "name": "stdout",
          "text": [
            "Plaintext   : RUSDI\n",
            "Kunci        : CRUSH\n",
            "Hasil Enkripsi: \u0015'(\u0017\u0011\n",
            "\n",
            "Hasil Deskripsi: RUSDI\n"
          ]
        }
      ],
      "source": [
        "def otp_encrypt(plaintext, key):\n",
        "    encrypted_text = \"\"\n",
        "    for i in range(len(plaintext)):\n",
        "        char = plaintext[i]\n",
        "        key_char = key[i % len(key)]\n",
        "        encrypted_char = chr((ord(char) + ord(key_char)) % 128)\n",
        "        encrypted_text += encrypted_char\n",
        "    return encrypted_text\n",
        "\n",
        "def otp_decrypt(ciphertext, key):\n",
        "    decrypted_text = \"\"\n",
        "    for i in range(len(ciphertext)):\n",
        "        char = ciphertext[i]\n",
        "        key_char = key[i % len(key)]\n",
        "        decrypted_char = chr((ord(char) - ord(key_char)) % 128)\n",
        "        decrypted_text += decrypted_char\n",
        "    return decrypted_text\n",
        "\n",
        "plaintext = \"RUSDI\"\n",
        "key = \"CRUSH\"\n",
        "\n",
        "# Enkripsi\n",
        "ciphertext = otp_encrypt(plaintext, key)\n",
        "print(\"Plaintext   :\", plaintext)\n",
        "print(\"Kunci        :\", key)\n",
        "print(\"Hasil Enkripsi:\", ciphertext)\n",
        "\n",
        "# Deskripsi\n",
        "decrypted_text = otp_decrypt(ciphertext, key)\n",
        "print(\"\\nHasil Deskripsi:\", decrypted_text)\n"
      ]
    }
  ]
}