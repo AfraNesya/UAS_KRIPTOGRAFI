{
  "nbformat": 4,
  "nbformat_minor": 0,
  "metadata": {
    "colab": {
      "provenance": [],
      "authorship_tag": "ABX9TyPic5xUvoc+9m1d/rMx1Voi",
      "include_colab_link": true
    },
    "kernelspec": {
      "name": "python3",
      "display_name": "Python 3"
    },
    "language_info": {
      "name": "python"
    }
  },
  "cells": [
    {
      "cell_type": "markdown",
      "metadata": {
        "id": "view-in-github",
        "colab_type": "text"
      },
      "source": [
        "<a href=\"https://colab.research.google.com/github/AfraNesya/UAS_KRIPTOGRAFI/blob/main/steganografi.ipynb\" target=\"_parent\"><img src=\"https://colab.research.google.com/assets/colab-badge.svg\" alt=\"Open In Colab\"/></a>"
      ]
    },
    {
      "cell_type": "code",
      "execution_count": null,
      "metadata": {
        "id": "wf3T7Yulf6ZS"
      },
      "outputs": [],
      "source": [
        "from PIL import Image\n",
        "\n",
        "def hide_message(image_path, message, output_path):\n",
        "    img = Image.open(image_path)\n",
        "\n",
        "    # Convert the message to binary\n",
        "    binary_message = ''.join(format(ord(char), '08b') for char in message)\n",
        "\n",
        "    # Ensure the image can contain the message\n",
        "    if len(binary_message) > img.width * img.height * 3:\n",
        "        raise ValueError(\"Message is too long for the image\")\n",
        "\n",
        "    data_index = 0\n",
        "    img_data = list(img.getdata())\n",
        "    for i, pixel in enumerate(img_data):\n",
        "        pixel_list = list(pixel)\n",
        "        for j in range(3):\n",
        "            if data_index < len(binary_message):\n",
        "                pixel_list[j] = int(format(pixel[j], '08b')[:-1] + binary_message[data_index], 2)\n",
        "                data_index += 1\n",
        "        img_data[i] = tuple(pixel_list)\n",
        "\n",
        "    new_img = Image.new(img.mode, img.size)\n",
        "    new_img.putdata(img_data)\n",
        "    new_img.save(output_path)\n",
        "\n",
        "def reveal_message(image_path):\n",
        "    img = Image.open(image_path)\n",
        "\n",
        "    binary_message = ''\n",
        "    img_data = list(img.getdata())\n",
        "    for pixel in img_data:\n",
        "        for value in pixel:\n",
        "            binary_message += format(value, '08b')[-1]\n",
        "\n",
        "    # Convert binary message to text\n",
        "    message = ''.join(chr(int(binary_message[i:i+8], 2)) for i in range(0, len(binary_message), 8))\n",
        "    return message\n",
        "\n",
        "# Example usage:\n",
        "hide_message(r\"C:\\Users\\afran\\OneDrive\\Pictures\\PCD\\astronaut.png\", \"selamat malam\", r\"C:\\Users\\afran\\OneDrive\\Pictures\\PCD\\astronaut_secret.png\")\n",
        "revealed_message = reveal_message(r\"C:\\Users\\afran\\OneDrive\\Pictures\\PCD\\astronaut_secret.png\")\n",
        "print(\"Revealed message:\", revealed_message)\n"
      ]
    }
  ]
}