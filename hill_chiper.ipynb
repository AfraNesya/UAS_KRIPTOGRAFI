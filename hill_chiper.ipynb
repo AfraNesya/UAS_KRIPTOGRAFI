{
  "nbformat": 4,
  "nbformat_minor": 0,
  "metadata": {
    "colab": {
      "provenance": [],
      "authorship_tag": "ABX9TyMz4qRD3MwaY9Y8IcnRzFhU",
      "include_colab_link": true
    },
    "kernelspec": {
      "name": "python3",
      "display_name": "Python 3"
    },
    "language_info": {
      "name": "python"
    }
  },
  "cells": [
    {
      "cell_type": "markdown",
      "metadata": {
        "id": "view-in-github",
        "colab_type": "text"
      },
      "source": [
        "<a href=\"https://colab.research.google.com/github/AfraNesya/UAS_KRIPTOGRAFI/blob/main/hill_chiper.ipynb\" target=\"_parent\"><img src=\"https://colab.research.google.com/assets/colab-badge.svg\" alt=\"Open In Colab\"/></a>"
      ]
    },
    {
      "cell_type": "code",
      "execution_count": null,
      "metadata": {
        "id": "xVw4px3MOZ2A",
        "colab": {
          "base_uri": "https://localhost:8080/"
        },
        "outputId": "0965ca46-d1dc-46de-d085-a9fe9715d42c"
      },
      "outputs": [
        {
          "output_type": "stream",
          "name": "stdout",
          "text": [
            "Masukkan baris ke-1 dari matriks kunci (3 angka dipisahkan dengan spasi): 3 5 12\n",
            "Masukkan baris ke-2 dari matriks kunci (3 angka dipisahkan dengan spasi): 2 7 16\n",
            "Masukkan baris ke-3 dari matriks kunci (3 angka dipisahkan dengan spasi): 8 4 15\n",
            "Masukkan teks yang ingin dienkripsi: AFRANESYAAPRIYANTHI\n",
            "TEKS AWAL: AFRANESYAAPRIYANTHI\n",
            "TEKS TERENKRIPSI: VVPJZISWGTNDOCEKLZZZH\n",
            "TEKS TERDEKRIPSI: VVFJTRSOITZHOAMKJQZZB\n"
          ]
        }
      ],
      "source": [
        "import numpy as np\n",
        "\n",
        "# Fungsi untuk mengenkripsi teks dengan Hill Cipher\n",
        "def hill_cipher_encrypt(text, key_matrix):\n",
        "    # Mengonversi teks ke dalam blok-blok tiga huruf\n",
        "    text = text.upper().replace(\" \", \"\")  # Mengubah menjadi huruf besar dan menghilangkan spasi\n",
        "    while len(text) % 3 != 0:\n",
        "        text += \"X\"  # Menambahkan huruf 'X' jika panjang teks tidak habis dibagi 3\n",
        "\n",
        "    # Fungsi untuk mengonversi tiga huruf ke indeks dalam alfabet\n",
        "    def text_to_indices(text):\n",
        "        return [ord(char) - 65 for char in text]\n",
        "\n",
        "    # Fungsi untuk mengonversi indeks ke teks\n",
        "    def indices_to_text(indices):\n",
        "        return \"\".join([chr(index + 65) for index in indices])\n",
        "\n",
        "    encrypted_text = \"\"\n",
        "    for i in range(0, len(text), 3):\n",
        "        block = text[i:i + 3]\n",
        "        indices = text_to_indices(block)\n",
        "        result_indices = np.dot(key_matrix, indices) % 26\n",
        "        encrypted_text += indices_to_text(result_indices)\n",
        "\n",
        "    return encrypted_text\n",
        "\n",
        "# Fungsi untuk mendekripsi teks dengan Hill Cipher\n",
        "def hill_cipher_decrypt(text, key_matrix):\n",
        "    # Mengonversi teks ke dalam blok-blok tiga huruf\n",
        "    text = text.upper().replace(\" \", \"\")  # Mengubah menjadi huruf besar dan menghilangkan spasi\n",
        "\n",
        "    # Fungsi untuk mengonversi tiga huruf ke indeks dalam alfabet\n",
        "    def text_to_indices(text):\n",
        "        return [ord(char) - 65 for char in text]\n",
        "\n",
        "    # Fungsi untuk mengonversi indeks ke teks\n",
        "    def indices_to_text(indices):\n",
        "        return \"\".join([chr(index + 65) for index in indices])\n",
        "\n",
        "    key_matrix_inverse = np.linalg.inv(key_matrix).astype(int) % 26  # Mengonversi matriks invers ke tipe data integer\n",
        "    decrypted_text = \"\"\n",
        "    for i in range(0, len(text), 3):\n",
        "        block = text[i:i + 3]\n",
        "        indices = text_to_indices(block)\n",
        "        result_indices = np.dot(key_matrix_inverse, indices) % 26\n",
        "        decrypted_text += indices_to_text(result_indices)\n",
        "\n",
        "    return decrypted_text\n",
        "\n",
        "# Meminta pengguna untuk memasukkan matriks kunci (9 angka)\n",
        "key_matrix = []\n",
        "for i in range(3):\n",
        "    row = [int(x) for x in input(f\"Masukkan baris ke-{i+1} dari matriks kunci (3 angka dipisahkan dengan spasi): \").split()]\n",
        "    key_matrix.append(row)\n",
        "key_matrix = np.array(key_matrix)\n",
        "\n",
        "# Meminta pengguna untuk memasukkan teks yang ingin dienkripsi\n",
        "plaintext = input(\"Masukkan teks yang ingin dienkripsi: \")\n",
        "\n",
        "# Mengenkripsi teks\n",
        "encrypted_text = hill_cipher_encrypt(plaintext, key_matrix)\n",
        "\n",
        "# Mendekripsi teks\n",
        "decrypted_text = hill_cipher_decrypt(encrypted_text, key_matrix)\n",
        "\n",
        "# Menampilkan hasil\n",
        "print(\"TEKS AWAL: \" + plaintext)\n",
        "print(\"TEKS TERENKRIPSI: \" + encrypted_text)\n",
        "print(\"TEKS TERDEKRIPSI: \" + decrypted_text)\n"
      ]
    }
  ]
}