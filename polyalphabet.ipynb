{
  "nbformat": 4,
  "nbformat_minor": 0,
  "metadata": {
    "colab": {
      "provenance": [],
      "authorship_tag": "ABX9TyO1FXHdGQe2390xmUJXbuBO",
      "include_colab_link": true
    },
    "kernelspec": {
      "name": "python3",
      "display_name": "Python 3"
    },
    "language_info": {
      "name": "python"
    }
  },
  "cells": [
    {
      "cell_type": "markdown",
      "metadata": {
        "id": "view-in-github",
        "colab_type": "text"
      },
      "source": [
        "<a href=\"https://colab.research.google.com/github/AfraNesya/UAS_KRIPTOGRAFI/blob/main/polyalphabet.ipynb\" target=\"_parent\"><img src=\"https://colab.research.google.com/assets/colab-badge.svg\" alt=\"Open In Colab\"/></a>"
      ]
    },
    {
      "cell_type": "code",
      "execution_count": 1,
      "metadata": {
        "id": "E8N_LgnvNNxo",
        "colab": {
          "base_uri": "https://localhost:8080/"
        },
        "outputId": "a85e458d-e1bf-44c4-ed34-92a05381c982"
      },
      "outputs": [
        {
          "output_type": "stream",
          "name": "stdout",
          "text": [
            "Masukkan teks yang akan dienkripsi: AFRANESYA\n",
            "Masukkan kunci-kunci (pisahkan dengan spasi): UNIVERSITAS PELITA BANGSA\n",
            "TEKS AWAL: AFRANESYA\n",
            "TEKS TERENKRIPSI: UJEVGEKCN\n"
          ]
        }
      ],
      "source": [
        "def polyalphabet_encrypt(plaintext, keys):\n",
        "    encrypted_text = \"\"\n",
        "    key_count = len(keys)\n",
        "\n",
        "    for i in range(len(plaintext)):\n",
        "        char = plaintext[i]\n",
        "        if char.isalpha():\n",
        "            key = keys[i % key_count]\n",
        "            key_length = len(key)\n",
        "            key_char = key[i % key_length]\n",
        "            key_shift = ord(key_char.lower()) - ord('a')\n",
        "\n",
        "            if char.islower():\n",
        "                encrypted_char = chr(((ord(char) - ord('a') + key_shift) % 26) + ord('a'))\n",
        "            else:\n",
        "                encrypted_char = chr(((ord(char) - ord('A') + key_shift) % 26) + ord('A'))\n",
        "\n",
        "            encrypted_text += encrypted_char\n",
        "        else:\n",
        "            encrypted_text += char\n",
        "\n",
        "    return encrypted_text\n",
        "\n",
        "# Meminta pengguna untuk memasukkan teks yang akan dienkripsi\n",
        "plaintext = input(\"Masukkan teks yang akan dienkripsi: \")\n",
        "\n",
        "# Meminta pengguna untuk memasukkan kunci-kunci (pisahkan dengan spasi)\n",
        "keys = input(\"Masukkan kunci-kunci (pisahkan dengan spasi): \").split()\n",
        "\n",
        "# Proses enkripsi\n",
        "encrypted_text = polyalphabet_encrypt(plaintext, keys)\n",
        "\n",
        "# Tampilkan hasil enkripsi\n",
        "print(\"TEKS AWAL: \" + plaintext)\n",
        "print(\"TEKS TERENKRIPSI: \" + encrypted_text)\n"
      ]
    }
  ]
}