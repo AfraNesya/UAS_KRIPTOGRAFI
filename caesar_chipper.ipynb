{
  "nbformat": 4,
  "nbformat_minor": 0,
  "metadata": {
    "colab": {
      "provenance": [],
      "authorship_tag": "ABX9TyO8RGU4mXxym6MNzr1WQatw",
      "include_colab_link": true
    },
    "kernelspec": {
      "name": "python3",
      "display_name": "Python 3"
    },
    "language_info": {
      "name": "python"
    }
  },
  "cells": [
    {
      "cell_type": "markdown",
      "metadata": {
        "id": "view-in-github",
        "colab_type": "text"
      },
      "source": [
        "<a href=\"https://colab.research.google.com/github/AfraNesya/UAS_KRIPTOGRAFI/blob/main/caesar_chipper.ipynb\" target=\"_parent\"><img src=\"https://colab.research.google.com/assets/colab-badge.svg\" alt=\"Open In Colab\"/></a>"
      ]
    },
    {
      "cell_type": "code",
      "execution_count": null,
      "metadata": {
        "id": "_OjwcUg3HI4F",
        "colab": {
          "base_uri": "https://localhost:8080/"
        },
        "outputId": "4caa8791-811b-4a48-ef6f-f28b51eaaaed"
      },
      "outputs": [
        {
          "output_type": "stream",
          "name": "stdout",
          "text": [
            "Masukkan teks untuk dienkripsi: afra nesya apriyanthi\n",
            "Masukkan jumlah pergeseran (angka bulat): 7\n",
            "\n",
            "Teks Awal: afra nesya apriyanthi\n",
            "Teks Terenkripsi: hmyh ulzfh hwypfhuaop\n",
            "Teks Terdekripsi: afra nesya apriyanthi\n"
          ]
        }
      ],
      "source": [
        "def caesar_cipher_encrypt(plain_text, shift):\n",
        "    encrypted_text = \"\"\n",
        "    for char in plain_text:\n",
        "        if char.isalpha():\n",
        "            start = ord('a') if char.islower() else ord('A')\n",
        "            encrypted_text += chr((ord(char) - start + shift) % 26 + start)\n",
        "        else:\n",
        "            encrypted_text += char\n",
        "    return encrypted_text\n",
        "\n",
        "def caesar_cipher_decrypt(encrypted_text, shift):\n",
        "    return caesar_cipher_encrypt(encrypted_text, -shift)\n",
        "\n",
        "def main():\n",
        "    # Mengambil input dari pengguna\n",
        "    text = input(\"Masukkan teks untuk dienkripsi: \")\n",
        "    shift = int(input(\"Masukkan jumlah pergeseran (angka bulat): \"))\n",
        "\n",
        "    # Mengenkripsi dan mendekripsi teks\n",
        "    encrypted_text = caesar_cipher_encrypt(text, shift)\n",
        "    decrypted_text = caesar_cipher_decrypt(encrypted_text, shift)\n",
        "\n",
        "    # Menampilkan hasil\n",
        "    print(\"\\nTeks Awal:\", text)\n",
        "    print(\"Teks Terenkripsi:\", encrypted_text)\n",
        "    print(\"Teks Terdekripsi:\", decrypted_text)\n",
        "\n",
        "if __name__ == \"__main__\":\n",
        "    main()"
      ]
    }
  ]
}