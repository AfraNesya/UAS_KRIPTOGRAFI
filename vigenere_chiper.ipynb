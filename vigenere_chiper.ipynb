{
  "nbformat": 4,
  "nbformat_minor": 0,
  "metadata": {
    "colab": {
      "provenance": [],
      "authorship_tag": "ABX9TyNAv4APswg66Bxa6NVJWkpb",
      "include_colab_link": true
    },
    "kernelspec": {
      "name": "python3",
      "display_name": "Python 3"
    },
    "language_info": {
      "name": "python"
    }
  },
  "cells": [
    {
      "cell_type": "markdown",
      "metadata": {
        "id": "view-in-github",
        "colab_type": "text"
      },
      "source": [
        "<a href=\"https://colab.research.google.com/github/AfraNesya/UAS_KRIPTOGRAFI/blob/main/vigenere_chiper.ipynb\" target=\"_parent\"><img src=\"https://colab.research.google.com/assets/colab-badge.svg\" alt=\"Open In Colab\"/></a>"
      ]
    },
    {
      "cell_type": "code",
      "execution_count": null,
      "metadata": {
        "id": "WZp_wJxNLuDz",
        "colab": {
          "base_uri": "https://localhost:8080/"
        },
        "outputId": "f4864fee-be28-4129-b61d-b549a8b85765"
      },
      "outputs": [
        {
          "output_type": "stream",
          "name": "stdout",
          "text": [
            "Masukkan username: afra\n",
            "Masukkan password: afranesya\n",
            "Login berhasil!\n",
            "Password terenkripsi: fwvecedcs\n",
            "Password terdekripsi: afranesya\n"
          ]
        }
      ],
      "source": [
        "def vigenere_encrypt(plain_text, key):\n",
        "    encrypted_text = \"\"\n",
        "    key_length = len(key)\n",
        "\n",
        "    for i in range(len(plain_text)):\n",
        "        char = plain_text[i]\n",
        "        if char.isalpha():\n",
        "            key_char = key[i % key_length]\n",
        "            key_shift = ord(key_char.lower()) - ord('a')\n",
        "\n",
        "            if char.islower():\n",
        "                encrypted_char = chr(((ord(char) - ord('a') + key_shift) % 26) + ord('a'))\n",
        "            else:\n",
        "                encrypted_char = chr(((ord(char) - ord('A') + key_shift) % 26) + ord('A'))\n",
        "\n",
        "            encrypted_text += encrypted_char\n",
        "        else:\n",
        "            encrypted_text += char\n",
        "\n",
        "    return encrypted_text\n",
        "\n",
        "def vigenere_decrypt(cipher_text, key):\n",
        "    decrypted_text = \"\"\n",
        "    key_length = len(key)\n",
        "\n",
        "    for i in range(len(cipher_text)):\n",
        "        char = cipher_text[i]\n",
        "        if char.isalpha():\n",
        "            key_char = key[i % key_length]\n",
        "            key_shift = ord(key_char.lower()) - ord('a')\n",
        "\n",
        "            if char.islower():\n",
        "                decrypted_char = chr(((ord(char) - ord('a') - key_shift + 26) % 26) + ord('a'))\n",
        "            else:\n",
        "                decrypted_char = chr(((ord(char) - ord('A') - key_shift + 26) % 26) + ord('A'))\n",
        "\n",
        "            decrypted_text += decrypted_char\n",
        "        else:\n",
        "            decrypted_text += char\n",
        "\n",
        "    return decrypted_text\n",
        "\n",
        "def login(username, password, key):\n",
        "    # Simpan username dan password terenkripsi dalam basis data atau penyimpanan yang aman\n",
        "    # Di dunia nyata, Anda harus menyimpannya di tempat yang lebih aman daripada variabel biasa\n",
        "\n",
        "    encrypted_password = vigenere_encrypt(password, key)\n",
        "    database = {\"username\": username, \"password\": encrypted_password}\n",
        "\n",
        "    # Proses login\n",
        "    input_username = input(\"Masukkan username: \")\n",
        "    input_password = input(\"Masukkan password: \")\n",
        "\n",
        "    if input_username == database[\"username\"]:\n",
        "        decrypted_password = vigenere_decrypt(database[\"password\"], key)\n",
        "\n",
        "        if input_password == decrypted_password:\n",
        "            print(\"Login berhasil!\")\n",
        "\n",
        "            # Tampilkan hasil enkripsi dan dekripsi\n",
        "            print(f\"Password terenkripsi: {database['password']}\")\n",
        "            print(f\"Password terdekripsi: {decrypted_password}\")\n",
        "\n",
        "        else:\n",
        "            print(\"Login gagal: Password salah.\")\n",
        "    else:\n",
        "        print(\"Login gagal: Username tidak ditemukan.\")\n",
        "\n",
        "# Contoh penggunaan\n",
        "def main():\n",
        "    username = \"afra\"\n",
        "    password = \"afranesya\"\n",
        "    key = \"freepalestine\"  # Ganti dengan kunci rahasia yang lebih kuat dalam aplikasi yang sebenarnya\n",
        "\n",
        "    login(username, password, key)\n",
        "\n",
        "if __name__ == \"__main__\":\n",
        "    main()"
      ]
    }
  ]
}